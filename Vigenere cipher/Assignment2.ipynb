{
 "cells": [
  {
   "cell_type": "code",
   "execution_count": 11,
   "metadata": {},
   "outputs": [],
   "source": [
    "s = \"KgfcwdqhvinpnzyhjcocntcjjwgkuwnthnnyvngkxacjjwgUrfjmxwyyjgrbbufqwivjgdjxnofsdgrmncbgiyqiquqtxwlmOcazxwqcajvjgtctnplyjhqscjnpjcvejbvdntYthkpecjngcnvaqvokauybknnongmvtzvvgsvcpkhbqtftcjntj\""
   ]
  },
  {
   "cell_type": "code",
   "execution_count": 12,
   "metadata": {},
   "outputs": [
    {
     "data": {
      "text/plain": [
       "185"
      ]
     },
     "execution_count": 12,
     "metadata": {},
     "output_type": "execute_result"
    }
   ],
   "source": [
    "len(s)"
   ]
  },
  {
   "cell_type": "markdown",
   "metadata": {},
   "source": [
    "## Vigenere Cipher"
   ]
  },
  {
   "cell_type": "code",
   "execution_count": 1,
   "metadata": {},
   "outputs": [],
   "source": [
    "import sys\n",
    "import collections\n",
    "import string as st"
   ]
  },
  {
   "cell_type": "code",
   "execution_count": null,
   "metadata": {},
   "outputs": [],
   "source": [
    "###  http://practicalcryptography.com/cryptanalysis/stochastic-searching/cryptanalysis-vigenere-cipher/"
   ]
  },
  {
   "cell_type": "code",
   "execution_count": 3,
   "metadata": {},
   "outputs": [],
   "source": [
    "cipher = \"\"\"Kg fcwd qh vin pnzy hjcocnt , cjjwg ku wnth nnyvng kxa cjjwg . Urfjm xwy yjg rbbufqwi \" vjg _ djxn _ ofs _ dg _ rmncbgi \" yq iq uqtxwlm . Oca zxw qcaj vjg tctnplyj hqs cjn pjcv ejbvdnt . Yt hkpe cjn gcnv,aqv okauy bknn ongm vt zvvgs vcpkh bqtft cjntj .\"\"\"\n",
    "cipher=cipher.upper()"
   ]
  },
  {
   "cell_type": "code",
   "execution_count": 4,
   "metadata": {},
   "outputs": [
    {
     "data": {
      "text/plain": [
       "'KG FCWD QH VIN PNZY HJCOCNT , CJJWG KU WNTH NNYVNG KXA CJJWG . URFJM XWY YJG RBBUFQWI \" VJG _ DJXN _ OFS _ DG _ RMNCBGI \" YQ IQ UQTXWLM . OCA ZXW QCAJ VJG TCTNPLYJ HQS CJN PJCV EJBVDNT . YT HKPE CJN GCNV,AQV OKAUY BKNN ONGM VT ZVVGS VCPKH BQTFT CJNTJ .'"
      ]
     },
     "execution_count": 4,
     "metadata": {},
     "output_type": "execute_result"
    }
   ],
   "source": [
    "cipher"
   ]
  },
  {
   "cell_type": "code",
   "execution_count": 14,
   "metadata": {},
   "outputs": [],
   "source": [
    "cipher_wo = \"\".join( \n",
    "                        [x.upper() for x in s.split() \\\n",
    "                                   if  x.isalpha() ]\n",
    "                     )"
   ]
  },
  {
   "cell_type": "code",
   "execution_count": 15,
   "metadata": {},
   "outputs": [
    {
     "data": {
      "text/plain": [
       "185"
      ]
     },
     "execution_count": 15,
     "metadata": {},
     "output_type": "execute_result"
    }
   ],
   "source": [
    "len(cipher_wo)"
   ]
  },
  {
   "cell_type": "markdown",
   "metadata": {},
   "source": [
    "## Calculating the Index of Coincidence"
   ]
  },
  {
   "cell_type": "code",
   "execution_count": 16,
   "metadata": {},
   "outputs": [
    {
     "name": "stdout",
     "output_type": "stream",
     "text": [
      "1\n",
      "0.04876615746180964\n",
      "2\n",
      "0.05460726744036702\n",
      "3\n",
      "0.04742346788883014\n",
      "4\n",
      "0.05795559666975023\n",
      "5\n",
      "0.06006006006006006\n",
      "6\n",
      "0.05167470028426647\n",
      "7\n",
      "0.049474969474969474\n",
      "8\n",
      "0.05401844532279315\n",
      "9\n",
      "0.036758563074352546\n",
      "10\n",
      "0.07660818713450292\n",
      "11\n",
      "0.045008912655971484\n",
      "12\n",
      "0.053571428571428575\n",
      "13\n",
      "0.050943927867004794\n",
      "14\n",
      "0.057561486132914716\n",
      "15\n",
      "0.054390054390054385\n",
      "16\n",
      "0.04943181818181819\n",
      "17\n",
      "0.049792038027332154\n",
      "18\n",
      "0.0382716049382716\n",
      "19\n",
      "0.04941520467836257\n"
     ]
    }
   ],
   "source": [
    "for block_size in range(1,20):\n",
    "    print(block_size)\n",
    "    n = len(cipher_wo)\n",
    "    IC_avg = 0.0\n",
    "    for i in range(block_size):\n",
    "        text = cipher_wo[i:n:block_size]\n",
    "#         print(text)\n",
    "        N = len(text)\n",
    "        freqs = collections.Counter(text)\n",
    "        alph =  map(chr, range( ord('A'), ord('Z')+1))\n",
    "        freqsum = 0.0\n",
    "\n",
    "        # Do the math\n",
    "        for l in alph:\n",
    "            freqsum += freqs[l] * ( freqs[l] - 1 )\n",
    "\n",
    "        IC = freqsum / ( N*(N-1) )\n",
    "    #     print(IC)\n",
    "        IC_avg = IC_avg+IC\n",
    "\n",
    "    IC_avg = IC_avg/block_size\n",
    "    print(IC_avg)"
   ]
  },
  {
   "cell_type": "code",
   "execution_count": 40,
   "metadata": {},
   "outputs": [
    {
     "name": "stdout",
     "output_type": "stream",
     "text": [
      "Counter({'N': 5, 'C': 4, 'X': 2, 'J': 2, 'V': 2, 'K': 1, 'B': 1, 'Q': 1, 'O': 1})\n",
      "Counter({'T': 4, 'J': 3, 'G': 2, 'C': 2, 'P': 1, 'A': 1, 'M': 1, 'U': 1, 'X': 1, 'W': 1, 'D': 1, 'K': 1})\n",
      "Counter({'N': 7, 'F': 2, 'C': 2, 'X': 2, 'H': 1, 'B': 1, 'Q': 1, 'A': 1, 'M': 1, 'P': 1})\n",
      "Counter({'C': 2, 'J': 2, 'W': 2, 'G': 2, 'P': 2, 'T': 2, 'Z': 1, 'N': 1, 'Q': 1, 'O': 1, 'U': 1, 'V': 1, 'K': 1})\n",
      "Counter({'Y': 4, 'J': 4, 'W': 2, 'L': 2, 'N': 1, 'F': 1, 'I': 1, 'A': 1, 'C': 1, 'T': 1, 'H': 1})\n",
      "Counter({'Y': 4, 'W': 2, 'B': 2, 'D': 1, 'H': 1, 'I': 1, 'S': 1, 'M': 1, 'J': 1, 'C': 1, 'T': 1, 'N': 1, 'Z': 1})\n",
      "Counter({'V': 6, 'Q': 3, 'J': 3, 'G': 2, 'D': 1, 'O': 1, 'H': 1, 'K': 1})\n",
      "Counter({'H': 2, 'C': 2, 'K': 2, 'N': 2, 'G': 2, 'J': 2, 'U': 1, 'I': 1, 'E': 1, 'A': 1, 'V': 1, 'T': 1})\n",
      "Counter({'G': 4, 'R': 3, 'Q': 3, 'V': 1, 'O': 1, 'U': 1, 'A': 1, 'J': 1, 'P': 1, 'N': 1, 'F': 1})\n",
      "Counter({'B': 2, 'T': 2, 'S': 2, 'I': 1, 'C': 1, 'W': 1, 'K': 1, 'F': 1, 'D': 1, 'M': 1, 'U': 1, 'Z': 1, 'E': 1, 'V': 1, 'O': 1})\n"
     ]
    }
   ],
   "source": [
    "block_size = 10\n",
    "n = len(cipher_wo)\n",
    "IC_avg = 0.0\n",
    "for i in range(block_size):\n",
    "    text = cipher_wo[i:n:block_size]\n",
    "#     print(text)\n",
    "    N = len(text)\n",
    "    freqs = collections.Counter(text)\n",
    "    print(freqs)\n",
    "    alph =  map(chr, range( ord('A'), ord('Z')+1))"
   ]
  },
  {
   "cell_type": "code",
   "execution_count": 17,
   "metadata": {},
   "outputs": [],
   "source": [
    "# First time key guess based on block wise frequency analysis\n",
    "\n",
    "    # N -> (13-4) = 9  -> J\n",
    "    # T -> (19-4) = 15 -> P\n",
    "    # N -> (13-4) = 9  -> J\n",
    "    # G -> (6-4)  = 2  -> C\n",
    "    # J -> (9-4)  = 5  -> F\n",
    "    # Y -> (24-4) = 20 -> U\n",
    "    # V -> (21-4) = 17 -> R\n",
    "    # G -> (6-4)  = 2  -> C\n",
    "    # G -> (6-4)  = 2  -> C\n",
    "    # B -> (1-4)  = -3+26 = 23 -> X\n",
    "\n",
    "    \n",
    "    \n",
    "# Using the above key we are able to understand some part of the text.\n",
    "# Then we try to guess the Key by seeing simillarity between the words.\n",
    "\n",
    "# ###############################\n",
    "\n",
    "# 'TLE' will be 'THE' so 10th key need to be changed. \n",
    "# cryptographic text 'I' will be  'H'. So the 10th key will be 'B'\n",
    "\n",
    "# ################################\n",
    "\n",
    "# 'AEXT' will be 'NEXT'. So the 2nd charector will need to change.\n",
    "\n",
    "# cryptographic text 'P' will be  'N'. So the 2nd key will be 'B'\n",
    "\n",
    "\n",
    "# ################################\n",
    "\n",
    "# 'PASSWORO' will be 'PASSWORD'. So the 6th key need to change.\n",
    "\n",
    "# cryptographic text 'I' will be  'D'. So the 6th key will be 'F'\n",
    "\n",
    "\n",
    "\n",
    "# ################################\n",
    "\n",
    "# 'ZF' will be 'OF'. So the 7th key need to change.\n",
    "\n",
    "# cryptographic text 'Q' will be  'O'. So the 6th key will be 'C'\n",
    "\n",
    "\n",
    "# #################################\n",
    "\n",
    "# Now we are able to decrypt the whole text \n",
    "\n"
   ]
  },
  {
   "cell_type": "code",
   "execution_count": 48,
   "metadata": {},
   "outputs": [
    {
     "name": "stdout",
     "output_type": "stream",
     "text": [
      "Original/Decrypted Text : BEWARYOFTHENEXTCHAMBERTHEREISVERYLITTLEJOYTHERESPEAKOUTTHEPASSWORDTHECAVEMANBEPLEASEDTOGOTHROUGHMAYYOUHAVETHESTRENGTHFORTHENEXTCHAMBERTOFINDTHEEXITYOUFIRSTWILLNEEDTOUTTERMAGICWORDSTHERE\n"
     ]
    }
   ],
   "source": [
    "\n",
    "# Python code to implement\n",
    "# Vigenere Cipher\n",
    " \n",
    "# This function generates the\n",
    "# key in a cyclic manner until\n",
    "# it's length isn't equal to\n",
    "# the length of original text\n",
    "def generateKey(string, key):\n",
    "    key = list(key)\n",
    "    if len(string) == len(key):\n",
    "        return(key)\n",
    "    else:\n",
    "        for i in range(len(string) -\n",
    "                       len(key)):\n",
    "            key.append(key[i % len(key)])\n",
    "    return(\"\" . join(key))\n",
    "     \n",
    "# This function returns the\n",
    "# encrypted text generated\n",
    "# with the help of the key\n",
    "def cipherText(string, key):\n",
    "    cipher_text = []\n",
    "    for i in range(len(string)):\n",
    "        x = (ord(string[i]) +\n",
    "             ord(key[i])) % 26\n",
    "        x += ord('A')\n",
    "        cipher_text.append(chr(x))\n",
    "    return(\"\" . join(cipher_text))\n",
    "     \n",
    "# This function decrypts the\n",
    "# encrypted text and returns\n",
    "# the original text\n",
    "def originalText(cipher_text, key):\n",
    "    orig_text = []\n",
    "    for i in range(len(cipher_text)):\n",
    "        x = (ord(cipher_text[i]) -\n",
    "             ord(key[i]) + 26) % 26\n",
    "        x += ord('A')\n",
    "        orig_text.append(chr(x))\n",
    "    return(\"\" . join(orig_text))\n",
    "     \n",
    "# Driver code\n",
    "if __name__ == \"__main__\":\n",
    "    \n",
    "    cipher_text=\"KGFCWDQHVINPNZYHJCOCNTCJJWGKUWNTHNNYVNGKXACJJWGURFJMXWYYJGRBBUFQWIVJGDJXNOFSDGRMNCBGIYQIQUQTXWLMOCAZXWQCAJVJGTCTNPLYJHQSCJNPJCVEJBVDNTYTHKPECJNGCNVAQVOKAUYBKNNONGMVTZVVGSVCPKHBQTFTCJNTJ\"\n",
    "#     keyword =   \"JCJCFFCCCB\"\n",
    "    keyword =   \"JCJCFFCCCB\"\n",
    "    key = generateKey(cipher_text, keyword)\n",
    "#     string =  \"BEWORYOFTHENEXTCHAMBERTHEREISVERYLITTLEJOYTHERE\"\n",
    "#     keyword = \"JCJOFFCCCB\"\n",
    "#     key = generateKey(string, keyword)\n",
    "#     cipher_text = cipherText(string,key)\n",
    "#     print(\"Ciphertext :\", cipher_text)\n",
    "    print(\"Original/Decrypted Text :\",\n",
    "           originalText(cipher_text, key))"
   ]
  },
  {
   "cell_type": "code",
   "execution_count": 49,
   "metadata": {},
   "outputs": [],
   "source": [
    "password = 'the_cave_man_be_pleased'"
   ]
  },
  {
   "cell_type": "code",
   "execution_count": null,
   "metadata": {},
   "outputs": [],
   "source": []
  },
  {
   "cell_type": "code",
   "execution_count": null,
   "metadata": {},
   "outputs": [],
   "source": []
  },
  {
   "cell_type": "code",
   "execution_count": null,
   "metadata": {},
   "outputs": [],
   "source": []
  },
  {
   "cell_type": "code",
   "execution_count": null,
   "metadata": {},
   "outputs": [],
   "source": []
  }
 ],
 "metadata": {
  "kernelspec": {
   "display_name": "Python 3",
   "language": "python",
   "name": "python3"
  },
  "language_info": {
   "codemirror_mode": {
    "name": "ipython",
    "version": 3
   },
   "file_extension": ".py",
   "mimetype": "text/x-python",
   "name": "python",
   "nbconvert_exporter": "python",
   "pygments_lexer": "ipython3",
   "version": "3.7.3"
  }
 },
 "nbformat": 4,
 "nbformat_minor": 2
}
