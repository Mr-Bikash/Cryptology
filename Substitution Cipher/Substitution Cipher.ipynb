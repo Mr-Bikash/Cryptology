{
 "cells": [
  {
   "cell_type": "code",
   "execution_count": 1,
   "metadata": {},
   "outputs": [],
   "source": [
    "import string as st"
   ]
  },
  {
   "cell_type": "markdown",
   "metadata": {},
   "source": [
    "## Encryption Method implemention for Substitution cipher"
   ]
  },
  {
   "cell_type": "code",
   "execution_count": 2,
   "metadata": {},
   "outputs": [],
   "source": [
    "def encryption(plain_text,key):\n",
    "    #Create a dictionary for plain-text to cipher-text mapping and store it in mapping dictionary\n",
    "    letters = st.ascii_letters\n",
    "    mapping = {}\n",
    "\n",
    "    for i in range(len(letters)):\n",
    "        mapping[letters[i]] = letters[(i+key)%len(letters)]\n",
    "        \n",
    "    cipher_text=\"\"\n",
    "    for i in range(len(plain_text)):\n",
    "        if plain_text[i] in st.ascii_letters:\n",
    "            c=mapping[plain_text[i]]\n",
    "            cipher_text = cipher_text+c\n",
    "            continue\n",
    "        cipher_text = cipher_text+plain_text[i]\n",
    "    return cipher_text"
   ]
  },
  {
   "cell_type": "code",
   "execution_count": 3,
   "metadata": {},
   "outputs": [
    {
     "name": "stdout",
     "output_type": "stream",
     "text": [
      "Please enter the plain-text : My Name is Bikash Saha\n",
      "Please enter your key for encryption : 5\n"
     ]
    },
    {
     "data": {
      "text/plain": [
       "'RD Sfrj nx Gnpfxm Xfmf'"
      ]
     },
     "execution_count": 3,
     "metadata": {},
     "output_type": "execute_result"
    }
   ],
   "source": [
    "plain_text =input(\"Please enter the plain-text : \")\n",
    "key = int(input(\"Please enter your key for encryption : \"))\n",
    "cipher_text=encryption(plain_text,key)\n",
    "cipher_text"
   ]
  },
  {
   "cell_type": "code",
   "execution_count": 4,
   "metadata": {},
   "outputs": [
    {
     "data": {
      "text/plain": [
       "'My Name is Bikash Saha'"
      ]
     },
     "execution_count": 4,
     "metadata": {},
     "output_type": "execute_result"
    }
   ],
   "source": [
    "plain_text"
   ]
  },
  {
   "cell_type": "markdown",
   "metadata": {},
   "source": [
    "## Decryption Method Implementation for Substitution Cipher"
   ]
  },
  {
   "cell_type": "code",
   "execution_count": 5,
   "metadata": {},
   "outputs": [],
   "source": [
    "def decryption(cipher_text,key):\n",
    "    #Create a dictionary for plain-text to cipher-text mapping and store it in mapping dictionary\n",
    "    letters = st.ascii_letters\n",
    "    mapping = {}\n",
    "\n",
    "    for i in range(len(letters)):\n",
    "        mapping[letters[i]] = letters[(i-key)%len(letters)]\n",
    "        \n",
    "    plain_text=\"\"\n",
    "    for i in range(len(cipher_text)):\n",
    "        if cipher_text[i] in st.ascii_letters:\n",
    "            c=mapping[cipher_text[i]]\n",
    "            plain_text = plain_text+c\n",
    "            continue\n",
    "        plain_text = plain_text+cipher_text[i]\n",
    "    return plain_text"
   ]
  },
  {
   "cell_type": "code",
   "execution_count": 6,
   "metadata": {},
   "outputs": [],
   "source": [
    "recover_plain_text = decryption(cipher_text,key)"
   ]
  },
  {
   "cell_type": "code",
   "execution_count": 7,
   "metadata": {},
   "outputs": [
    {
     "data": {
      "text/plain": [
       "'My Name is Bikash Saha'"
      ]
     },
     "execution_count": 7,
     "metadata": {},
     "output_type": "execute_result"
    }
   ],
   "source": [
    "recover_plain_text"
   ]
  },
  {
   "cell_type": "markdown",
   "metadata": {},
   "source": [
    "## Frequency Analysis for Substitution Cipher"
   ]
  },
  {
   "cell_type": "code",
   "execution_count": 8,
   "metadata": {},
   "outputs": [],
   "source": [
    "#Frequency of english word  \n",
    "F = \"ETAOINSHRDLCUMWFGYPBVKJXQZ\""
   ]
  },
  {
   "cell_type": "code",
   "execution_count": 10,
   "metadata": {},
   "outputs": [],
   "source": [
    "subs_cipher=\"B TJNQMF NFTTBHF\""
   ]
  },
  {
   "cell_type": "code",
   "execution_count": 11,
   "metadata": {},
   "outputs": [],
   "source": [
    "freq = [0]*26\n",
    "for i in range(len(subs_cipher)):\n",
    "    if subs_cipher[i] in st.ascii_letters:\n",
    "#         prin?t(ord(subs_cipher[i]))\n",
    "        freq[ord(subs_cipher[i])-65] = freq[ord(subs_cipher[i])-65] +1\n",
    "    "
   ]
  },
  {
   "cell_type": "code",
   "execution_count": 37,
   "metadata": {},
   "outputs": [],
   "source": [
    "# freq={}\n",
    "# for i in range(26):\n",
    "#     freq[chr(65+i)] =0\n",
    "    \n",
    "\n",
    "# for i in range(len(subs_cipher)):\n",
    "#     if subs_cipher[i] in freq.keys():\n",
    "#         freq[subs_cipher[i]] = freq[subs_cipher[i]] +1"
   ]
  },
  {
   "cell_type": "code",
   "execution_count": 12,
   "metadata": {},
   "outputs": [
    {
     "data": {
      "text/plain": [
       "[0, 2, 0, 0, 0, 3, 0, 1, 0, 1, 0, 0, 1, 2, 0, 0, 1, 0, 0, 3, 0, 0, 0, 0, 0, 0]"
      ]
     },
     "execution_count": 12,
     "metadata": {},
     "output_type": "execute_result"
    }
   ],
   "source": [
    "freq"
   ]
  },
  {
   "cell_type": "code",
   "execution_count": null,
   "metadata": {},
   "outputs": [],
   "source": []
  },
  {
   "cell_type": "code",
   "execution_count": 14,
   "metadata": {},
   "outputs": [
    {
     "name": "stdout",
     "output_type": "stream",
     "text": [
      "A SIMPLE MESSAGE\n",
      "Do you want to run again ? If yes press Y or Press N : n\n"
     ]
    }
   ],
   "source": [
    "for i in F:\n",
    "    exp_key = freq.index(max(freq))+65 - ord(i)\n",
    "    exp_text=decryption(subs_cipher,exp_key)\n",
    "    print(exp_text)\n",
    "    c = input(\"Do you want to run again ? If yes press Y or Press N : \")\n",
    "    \n",
    "    if c == 'N' or 'n':\n",
    "        break"
   ]
  },
  {
   "cell_type": "code",
   "execution_count": null,
   "metadata": {},
   "outputs": [],
   "source": []
  }
 ],
 "metadata": {
  "kernelspec": {
   "display_name": "Python 3",
   "language": "python",
   "name": "python3"
  },
  "language_info": {
   "codemirror_mode": {
    "name": "ipython",
    "version": 3
   },
   "file_extension": ".py",
   "mimetype": "text/x-python",
   "name": "python",
   "nbconvert_exporter": "python",
   "pygments_lexer": "ipython3",
   "version": "3.7.3"
  }
 },
 "nbformat": 4,
 "nbformat_minor": 2
}
